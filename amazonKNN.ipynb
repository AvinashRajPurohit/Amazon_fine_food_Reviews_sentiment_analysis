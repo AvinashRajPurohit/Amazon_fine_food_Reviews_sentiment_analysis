{
 "cells": [
  {
   "cell_type": "code",
   "execution_count": 1,
   "metadata": {},
   "outputs": [],
   "source": [
    "%matplotlib inline\n",
    "import warnings\n",
    "warnings.filterwarnings(\"ignore\")\n",
    "\n",
    "import sqlite3\n",
    "import pandas as pd\n",
    "import numpy as np\n",
    "import nltk\n",
    "import string\n",
    "import matplotlib.pyplot as plt\n",
    "import seaborn as sns\n",
    "from sklearn.feature_extraction.text import TfidfTransformer\n",
    "from sklearn.feature_extraction.text import TfidfVectorizer\n",
    "\n",
    "from sklearn.feature_extraction.text import CountVectorizer\n",
    "from sklearn.metrics import confusion_matrix\n",
    "from sklearn import metrics\n",
    "from sklearn.metrics import roc_curve, auc\n",
    "from nltk.stem.porter import PorterStemmer\n",
    "\n",
    "import re\n",
    "import string\n",
    "from nltk.corpus import stopwords\n",
    "from nltk.stem import PorterStemmer\n",
    "from nltk.stem.wordnet import WordNetLemmatizer\n",
    "\n",
    "from gensim.models import Word2Vec\n",
    "from gensim.models import KeyedVectors\n",
    "import pickle\n",
    "\n",
    "from sklearn.preprocessing import StandardScaler\n",
    "from sklearn.manifold import TSNE\n",
    "from sklearn.neighbors import KNeighborsClassifier\n",
    "from tqdm import tqdm\n",
    "\n",
    "import seaborn as sns\n",
    "from sklearn.metrics import accuracy_score\n",
    "from sklearn.metrics import confusion_matrix\n",
    "from sklearn.metrics import precision_score\n",
    "from sklearn.metrics import f1_score\n",
    "from sklearn.metrics import recall_score\n",
    "from sklearn.model_selection import train_test_split\n",
    "from sklearn.metrics import accuracy_score\n",
    "from sklearn.model_selection import cross_val_score\n",
    "from collections import Counter\n",
    "from sklearn.metrics import accuracy_score\n"
   ]
  },
  {
   "cell_type": "markdown",
   "metadata": {},
   "source": [
    "# TIME-BASED SPLITTING\n"
   ]
  },
  {
   "cell_type": "code",
   "execution_count": 2,
   "metadata": {},
   "outputs": [],
   "source": [
    "import random\n",
    "con = sqlite3.connect('final.sqlite')\n",
    "final = pd.read_sql_query(\"\"\"SELECT * FROM Reviews\"\"\",con)\n",
    "final = final.sort_values(by=['Time'],ascending=False)\n",
    "finalDataPoints = final.head(8000)\n",
    "x = finalDataPoints['CleanedText']\n",
    "y = finalDataPoints['Score']"
   ]
  },
  {
   "cell_type": "code",
   "execution_count": 3,
   "metadata": {},
   "outputs": [],
   "source": [
    "x_tr,x_test,y_tr,y_test = train_test_split(x,y,test_size=0.2,shuffle=False)\n",
    "x_train,x_cv,y_train,y_cv = train_test_split(x_tr,y_tr,test_size=0.2,shuffle=False)"
   ]
  },
  {
   "cell_type": "markdown",
   "metadata": {},
   "source": [
    "# Word2Vec"
   ]
  },
  {
   "cell_type": "code",
   "execution_count": 4,
   "metadata": {},
   "outputs": [],
   "source": [
    "i = 0\n",
    "list_of_sent = []\n",
    "for sent in x_train:\n",
    "    list_of_sent.append(sent.split())\n",
    "\n",
    "i = 0\n",
    "list_of_sent_cv = []\n",
    "for sent in x_cv:\n",
    "    list_of_sent_cv.append(sent.split())\n",
    "    \n",
    "i = 0\n",
    "list_of_sent_test = []\n",
    "for sent in x_test:\n",
    "    list_of_sent_test.append(sent.split())"
   ]
  },
  {
   "cell_type": "code",
   "execution_count": 5,
   "metadata": {},
   "outputs": [],
   "source": [
    "w2v_model = Word2Vec(list_of_sent,min_count=5,size=50)"
   ]
  },
  {
   "cell_type": "code",
   "execution_count": 6,
   "metadata": {},
   "outputs": [
    {
     "name": "stdout",
     "output_type": "stream",
     "text": [
      "Number of words that occured minumum 5 times 2904\n",
      "sample of words ['big', 'lover', 'fig', 'jam', 'uniqu', 'flavor', 'kind', 'mix', 'light', 'dark', 'must', 'tri', 'great', 'product', 'good', 'price', 'definit', 'order', 'use', 'bottl', 'empti', 'expect', 'box', 'full', 'fortun', 'cooki', 'like', 'one', 'nonetheless', 'got', 'small', 'tast', 'weird', 'okay', 'best', 'ever', 'review', 'amazon', 'check', 'label', 'contain', 'sure', 'enough', 'top', 'done', 'research', 'also', 'found', 'toxic', 'pet']\n"
     ]
    }
   ],
   "source": [
    "w2v_words = list(w2v_model.wv.vocab)\n",
    "print('Number of words that occured minumum 5 times', len(w2v_words))\n",
    "print('sample of words',w2v_words[0:50])"
   ]
  },
  {
   "cell_type": "markdown",
   "metadata": {},
   "source": [
    "# Avg-W2V"
   ]
  },
  {
   "cell_type": "code",
   "execution_count": 8,
   "metadata": {},
   "outputs": [
    {
     "name": "stdout",
     "output_type": "stream",
     "text": [
      "5120\n",
      "50\n"
     ]
    }
   ],
   "source": [
    "sent_vectors = []\n",
    "for sent in list_of_sent:\n",
    "    sent_vec = np.zeros(50)\n",
    "    cnt_words = 0\n",
    "    for word in sent:\n",
    "        if word in w2v_words:\n",
    "            vec = w2v_model.wv[word]\n",
    "            sent_vec += vec\n",
    "            cnt_words += 1\n",
    "    if cnt_words != 0:\n",
    "        sent_vec /= cnt_words\n",
    "    sent_vectors.append(sent_vec)\n",
    "print(len(sent_vectors))\n",
    "print(len(sent_vectors[0]))"
   ]
  },
  {
   "cell_type": "code",
   "execution_count": 13,
   "metadata": {},
   "outputs": [
    {
     "name": "stdout",
     "output_type": "stream",
     "text": [
      "1280\n",
      "50\n"
     ]
    }
   ],
   "source": [
    "# avg_w2v for cv data\n",
    "sent_vectors_cv = []\n",
    "\n",
    "for sent in list_of_sent_cv:\n",
    "    \n",
    "    sent_vec = np.zeros(50)\n",
    "    cnt_words = 0\n",
    "    \n",
    "    for word in sent:\n",
    "        if word in w2v_words:\n",
    "            vec = w2v_model.wv[word]\n",
    "            sent_vec += vec\n",
    "            cnt_words += 1\n",
    "    if cnt_words != 0:\n",
    "        sent_vec /= cnt_words\n",
    "    \n",
    "    sent_vectors_cv.append(sent_vec)\n",
    "\n",
    "print(len(sent_vectors_cv))\n",
    "print(len(sent_vectors_cv[0]))\n",
    "            \n",
    "            "
   ]
  },
  {
   "cell_type": "code",
   "execution_count": 14,
   "metadata": {},
   "outputs": [
    {
     "name": "stdout",
     "output_type": "stream",
     "text": [
      "1600\n",
      "50\n"
     ]
    }
   ],
   "source": [
    "sent_vectors_test = []\n",
    "for sent in list_of_sent_test:\n",
    "    sent_vec = np.zeros(50)\n",
    "    cnt_words = 0\n",
    "    for word in sent:\n",
    "        if word in w2v_words:\n",
    "            vec = w2v_model.wv[word]\n",
    "            sent_vec += vec\n",
    "            cnt_words+=1\n",
    "        \n",
    "    if cnt_words != 0:\n",
    "        sent_vec /= cnt_words\n",
    "    \n",
    "    sent_vectors_test.append(sent_vec)\n",
    "\n",
    "print(len(sent_vectors_test))\n",
    "print(len(sent_vectors_test[0]))"
   ]
  },
  {
   "cell_type": "code",
   "execution_count": 16,
   "metadata": {},
   "outputs": [
    {
     "name": "stdout",
     "output_type": "stream",
     "text": [
      "\n",
      "The optimal number of neighbors is => 17\n"
     ]
    }
   ],
   "source": [
    "x_test = sent_vectors_test\n",
    "x_cv = sent_vectors_cv\n",
    "x_train = sent_vectors\n",
    "\n",
    "scores = []\n",
    "\n",
    "myList = list(range(0,30))\n",
    "neighbors = list(filter(lambda x: x%2 != 0,myList))\n",
    "for i in neighbors:\n",
    "    knn = KNeighborsClassifier(n_neighbors = i,algorithm='brute')\n",
    "    knn.fit(x_train,y_train)\n",
    "    pred = knn.predict(x_cv)\n",
    "    score = f1_score(y_cv,pred,average='micro')\n",
    "    scores.append(score)\n",
    "optimal_k_using_avgw2v = neighbors[scores.index(max(scores))]\n",
    "print('\\nThe optimal number of neighbors is =>',optimal_k_using_avgw2v)"
   ]
  },
  {
   "cell_type": "code",
   "execution_count": 18,
   "metadata": {},
   "outputs": [
    {
     "name": "stdout",
     "output_type": "stream",
     "text": [
      "Accuracy on test set: 83.4375\n",
      "Precision on test set: 0.6686633039092056\n",
      "Recall on test set: 0.5105858243233694\n",
      "F1-score on test set:  0.47972842805588994\n",
      "Confusion matrix of test set:\n",
      "[[TN FP]\n",
      " [FN TP]]\n",
      "\n"
     ]
    },
    {
     "data": {
      "text/plain": [
       "<matplotlib.axes._subplots.AxesSubplot at 0x258b68cf608>"
      ]
     },
     "execution_count": 18,
     "metadata": {},
     "output_type": "execute_result"
    },
    {
     "data": {
      "image/png": "[encoded data removed]",
      "text/plain": [
       "<Figure size 432x288 with 2 Axes>"
      ]
     },
     "metadata": {},
     "output_type": "display_data"
    }
   ],
   "source": [
    "knn = KNeighborsClassifier(optimal_k_using_avgw2v)\n",
    "knn.fit(x_train,y_train)\n",
    "y_pred = knn.predict(x_test)\n",
    "print(\"Accuracy on test set:\",(accuracy_score(y_test,y_pred)*100))\n",
    "print(\"Precision on test set:\",(precision_score(y_test,y_pred,average='macro')))\n",
    "print(\"Recall on test set:\",recall_score(y_test,y_pred,average='macro'))\n",
    "print(\"F1-score on test set: \",f1_score(y_test,y_pred,average='macro'))\n",
    "print('Confusion matrix of test set:\\n[[TN FP]\\n [FN TP]]\\n')\n",
    "#\n",
    "df_cm = pd.DataFrame(confusion_matrix(y_test,y_pred),range(2),range(2))\n",
    "sns.set(font_scale=1.4)\n",
    "sns.heatmap(df_cm,annot=True,annot_kws={'size':16},fmt='g')\n"
   ]
  },
  {
   "cell_type": "code",
   "execution_count": null,
   "metadata": {},
   "outputs": [],
   "source": [
    "#bag of words\n",
    "# 1.Unigram\n",
    "bow = CountVectorizer()\n",
    "x_train = bow.fit_transform(x_train)\n",
    "x_test = bow.transform(x_test)\n",
    "x_cv = bow.transform(x_cv)\n"
   ]
  },
  {
   "cell_type": "code",
   "execution_count": null,
   "metadata": {},
   "outputs": [],
   "source": [
    "# Finding optimal K\n",
    "myList = list(range(0,30))\n",
    "neighbors = list(filter(lambda x: x%2 != 0,myList))\n",
    "print('List of neighbors:',neighbors)\n",
    "print('=>'*50)\n",
    "scores = []\n",
    "for i in neighbors:\n",
    "    knn = KNeighborsClassifier(n_neighbors=i,algorithm = 'brute')\n",
    "    \n",
    "    # fitting the model on crossvalidation train\n",
    "    knn.fit(x_train,y_train)\n",
    "    \n",
    "    pred = knn.predict(x_cv)\n",
    "    \n",
    "    score = f1_score(y_cv,pred,average='micro')\n",
    "    print('Score on {} neighbors => '.format(i),score)\n",
    "    scores.append(score)\n",
    "\n",
    "MSE = [1-x for x in scores]\n",
    "optimal_k = neighbors[MSE.index(min(MSE))]\n",
    "print('\\n The optimal number of neighbors is',optimal_k)    "
   ]
  },
  {
   "cell_type": "markdown",
   "metadata": {},
   "source": [
    "## ploting confusion matrix and finding f1_score given optimal value of k"
   ]
  },
  {
   "cell_type": "code",
   "execution_count": null,
   "metadata": {},
   "outputs": [],
   "source": [
    "knn = KNeighborsClassifier(optimal_k)\n",
    "knn.fit(x_train,y_train)\n",
    "y_pred = knn.predict(x_test)\n",
    "print(\"Accuracy on test set:\",(accuracy_score(y_test,y_pred)*100))\n",
    "print(\"Precision on test set:\",(precision_score(y_test,y_pred,average='macro')))\n",
    "print(\"Recall on test set:\",recall_score(y_test,y_pred,average='macro'))\n",
    "print(\"F1-score on test set: \",f1_score(y_test,y_pred,average='macro'))\n",
    "print('Confusion matrix of test set:\\n[[TN FP]\\n [FN TP]]\\n')\n",
    "#\n",
    "df_cm = pd.DataFrame(confusion_matrix(y_test,y_pred),range(2),range(2))\n",
    "sns.set(font_scale=1.4)\n",
    "sns.heatmap(df_cm,annot=True,annot_kws={'size':16},fmt='g')\n"
   ]
  },
  {
   "cell_type": "markdown",
   "metadata": {},
   "source": [
    "# TF-IDF"
   ]
  },
  {
   "cell_type": "code",
   "execution_count": null,
   "metadata": {},
   "outputs": [],
   "source": [
    "tf_idf_vect = TfidfVectorizer(ngram_range=(1,2))\n",
    "x_train = tf_idf_vect.fit_transform(x_train)\n",
    "x_test = tf_idf_vect.transform(x_test)\n",
    "x_cv = tf_idf_vect.transform(x_cv)\n",
    "\n",
    "myList = list(range(0,30))\n",
    "neighbors = list(filter(lambda x: x % 2 != 0,myList))\n",
    "scores = []\n",
    "for i in neighbors:\n",
    "    knn = KNeighborsClassifier(n_neighbors=i,algorithm='brute')\n",
    "    knn.fit(x_train,y_train)\n",
    "    pred = knn.predict(x_cv)\n",
    "    score = f1_score(y_cv,pred,average='micro')\n",
    "    scores.append(score)\n",
    "\n",
    "MSE = [1 - x for x in scores]\n",
    "optimal_k_using_tfidf = neighbors[MSE.index(min(MSE))]\n",
    "print('\\nThe optimal number of neighbors is',optimal_k_using_tfidf)"
   ]
  },
  {
   "cell_type": "code",
   "execution_count": null,
   "metadata": {},
   "outputs": [],
   "source": [
    "knn = KNeighborsClassifier(optimal_k_using_tfidf)\n",
    "knn.fit(x_train,y_train)\n",
    "y_pred = knn.predict(x_test)\n",
    "print(\"Accuracy on test set:\",(accuracy_score(y_test,y_pred)*100))\n",
    "print(\"Precision on test set:\",(precision_score(y_test,y_pred,average='macro')))\n",
    "print(\"Recall on test set:\",recall_score(y_test,y_pred,average='macro'))\n",
    "print(\"F1-score on test set: \",f1_score(y_test,y_pred,average='macro'))\n",
    "print('Confusion matrix of test set:\\n[[TN FP]\\n [FN TP]]\\n')\n",
    "#\n",
    "df_cm = pd.DataFrame(confusion_matrix(y_test,y_pred),range(2),range(2))\n",
    "sns.set(font_scale=1.4)\n",
    "sns.heatmap(df_cm,annot=True,annot_kws={'size':16},fmt='g')\n"
   ]
  },
  {
   "cell_type": "markdown",
   "metadata": {},
   "source": [
    "# TFIDF-W2V"
   ]
  },
  {
   "cell_type": "code",
   "execution_count": 20,
   "metadata": {},
   "outputs": [],
   "source": [
    "con = sqlite3.connect('final.sqlite')\n",
    "final = pd.read_sql_query(\"\"\"SELECT * FROM Reviews\"\"\",con)\n",
    "final = final.sort_values(by=['Time'],ascending=False)\n",
    "finalDataPoints = final.head(8000)\n",
    "x = finalDataPoints['CleanedText']\n",
    "y = finalDataPoints['Score']\n",
    "x_tr,x_test,y_tr,y_test = train_test_split(x,y,test_size=0.2,shuffle=False)\n",
    "x_train,x_cv,y_train,y_cv = train_test_split(x_tr,y_tr,test_size=0.2,shuffle=False)\n",
    "tf_idf_vect = TfidfVectorizer()\n",
    "final_tf_idf = tf_idf_vect.fit_transform(x_train)\n",
    "dictionary = dict(zip(tf_idf_vect.get_feature_names(),list(tf_idf_vect.idf_)))"
   ]
  },
  {
   "cell_type": "code",
   "execution_count": 23,
   "metadata": {},
   "outputs": [
    {
     "name": "stderr",
     "output_type": "stream",
     "text": [
      "100%|█████████████████████████████████████████████████████████████████████████████| 5120/5120 [00:05<00:00, 854.23it/s]\n"
     ]
    }
   ],
   "source": [
    "tfidf_feat = tf_idf_vect.get_feature_names()\n",
    "tfidf_sent_vectors = []\n",
    "row = 0\n",
    "for sent in tqdm(list_of_sent):\n",
    "    sent_vec = np.zeros(50)\n",
    "    weight_sum = 0\n",
    "    \n",
    "    for word in sent:\n",
    "        if word in w2v_words:\n",
    "            vec = w2v_model.wv[word]\n",
    "            tf_idf = dictionary[word]*sent.count(word)\n",
    "            sent_vec += (vec * tf_idf)\n",
    "            weight_sum += tf_idf\n",
    "    \n",
    "    if weight_sum != 0:\n",
    "        sent_vec /= weight_sum\n",
    "    tfidf_sent_vectors.append(sent_vec)\n",
    "    row+=1"
   ]
  },
  {
   "cell_type": "code",
   "execution_count": 24,
   "metadata": {},
   "outputs": [
    {
     "name": "stderr",
     "output_type": "stream",
     "text": [
      "100%|█████████████████████████████████████████████████████████████████████████████| 1600/1600 [00:02<00:00, 752.44it/s]\n"
     ]
    }
   ],
   "source": [
    "tfidf_feat = tf_idf_vect.get_feature_names()\n",
    "tfidf_sent_vectors_test = []\n",
    "row = 0\n",
    "for sent in tqdm(list_of_sent_test):\n",
    "    sent_vec = np.zeros(50)\n",
    "    weight_sum = 0\n",
    "    for word in sent:\n",
    "        if word in w2v_words:\n",
    "            vec = w2v_model.wv[word]\n",
    "            tf_idf = dictionary[word]*sent.count(word)\n",
    "            sent_vec += (vec * tf_idf)\n",
    "            weight_sum += tf_idf\n",
    "    if weight_sum != 0:\n",
    "        sent_vec /= weight_sum\n",
    "    tfidf_sent_vectors_test.append(sent_vec)\n",
    "    row+=1    "
   ]
  },
  {
   "cell_type": "code",
   "execution_count": 25,
   "metadata": {},
   "outputs": [
    {
     "name": "stderr",
     "output_type": "stream",
     "text": [
      "100%|█████████████████████████████████████████████████████████████████████████████| 1280/1280 [00:01<00:00, 816.43it/s]\n"
     ]
    }
   ],
   "source": [
    "tfidf_feat = tf_idf_vect.get_feature_names()\n",
    "tfidf_sent_vectors_cv = []\n",
    "row = 0\n",
    "for sent in tqdm(list_of_sent_cv):\n",
    "    sent_vec = np.zeros(50)\n",
    "    weight_sum = 0\n",
    "    for word in sent:\n",
    "        if word in w2v_words:\n",
    "            vec = w2v_model.wv[word]\n",
    "            tf_idf = dictionary[word]*sent.count(word)\n",
    "            sent_vec += (vec * tf_idf)\n",
    "            weight_sum += tf_idf\n",
    "    if weight_sum != 0:\n",
    "        sent_vec /= weight_sum\n",
    "    tfidf_sent_vectors_cv.append(sent_vec)\n",
    "    row+=1    "
   ]
  },
  {
   "cell_type": "code",
   "execution_count": 29,
   "metadata": {},
   "outputs": [
    {
     "name": "stderr",
     "output_type": "stream",
     "text": [
      "100%|██████████████████████████████████████████████████████████████████████████████████| 15/15 [00:06<00:00,  2.43it/s]"
     ]
    },
    {
     "name": "stdout",
     "output_type": "stream",
     "text": [
      "29\n"
     ]
    },
    {
     "name": "stderr",
     "output_type": "stream",
     "text": [
      "\n"
     ]
    }
   ],
   "source": [
    "x_test = tfidf_sent_vectors_test\n",
    "x_cv = tfidf_sent_vectors_cv\n",
    "x_train = tfidf_sent_vectors\n",
    "scores = []\n",
    "myList = list(range(0,30))\n",
    "neighbors = list(filter(lambda x: x%2 != 0, myList))\n",
    "for i in tqdm(neighbors):\n",
    "    knn = KNeighborsClassifier(n_neighbors=i,algorithm='brute')\n",
    "    knn.fit(x_train,y_train)\n",
    "    pred = knn.predict(tfidf_sent_vectors_cv)\n",
    "    score = f1_score(y_cv,pred,average='micro')\n",
    "    scores.append(score)\n",
    "optimal_k_using_tfidf_w2v = neighbors[scores.index(max(scores))]\n",
    "print(optimal_k_using_tfidf_w2v)"
   ]
  },
  {
   "cell_type": "code",
   "execution_count": 30,
   "metadata": {},
   "outputs": [
    {
     "name": "stdout",
     "output_type": "stream",
     "text": [
      "Accuracy on test set: 83.125\n",
      "Precision on test set: 0.4885660478880818\n",
      "Recall on test set: 0.49963960144159425\n",
      "F1-score on test set:  0.4575699132111861\n",
      "Confusion matrix of test set:\n",
      "[[TN FP]\n",
      " [FN TP]]\n",
      "\n"
     ]
    },
    {
     "data": {
      "text/plain": [
       "<matplotlib.axes._subplots.AxesSubplot at 0x258c9f5ba48>"
      ]
     },
     "execution_count": 30,
     "metadata": {},
     "output_type": "execute_result"
    },
    {
     "data": {
      "image/png": "[encoded data removed]",
      "text/plain": [
       "<Figure size 432x288 with 2 Axes>"
      ]
     },
     "metadata": {},
     "output_type": "display_data"
    }
   ],
   "source": [
    "knn = KNeighborsClassifier(optimal_k_using_tfidf_w2v)\n",
    "knn.fit(x_train,y_train)\n",
    "y_pred = knn.predict(x_test)\n",
    "print(\"Accuracy on test set:\",(accuracy_score(y_test,y_pred)*100))\n",
    "print(\"Precision on test set:\",(precision_score(y_test,y_pred,average='macro')))\n",
    "print(\"Recall on test set:\",recall_score(y_test,y_pred,average='macro'))\n",
    "print(\"F1-score on test set: \",f1_score(y_test,y_pred,average='macro'))\n",
    "print('Confusion matrix of test set:\\n[[TN FP]\\n [FN TP]]\\n')\n",
    "#\n",
    "df_cm = pd.DataFrame(confusion_matrix(y_test,y_pred),range(2),range(2))\n",
    "sns.set(font_scale=1.4)\n",
    "sns.heatmap(df_cm,annot=True,annot_kws={'size':16},fmt='g')\n"
   ]
  },
  {
   "cell_type": "code",
   "execution_count": null,
   "metadata": {},
   "outputs": [],
   "source": []
  }
 ],
 "metadata": {
  "kernelspec": {
   "display_name": "Python 3",
   "language": "python",
   "name": "python3"
  },
  "language_info": {
   "codemirror_mode": {
    "name": "ipython",
    "version": 3
   },
   "file_extension": ".py",
   "mimetype": "text/x-python",
   "name": "python",
   "nbconvert_exporter": "python",
   "pygments_lexer": "ipython3",
   "version": "3.7.4"
  }
 },
 "nbformat": 4,
 "nbformat_minor": 2
}
