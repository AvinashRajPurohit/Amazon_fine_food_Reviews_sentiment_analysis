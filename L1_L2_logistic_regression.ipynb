{
 "cells": [
  {
   "cell_type": "code",
   "execution_count": 57,
   "metadata": {},
   "outputs": [],
   "source": [
    "import warnings\n",
    "warnings.filterwarnings('ignore')\n",
    "import sqlite3\n",
    "import pandas as pd\n",
    "import numpy as np\n",
    "import nltk\n",
    "import string\n",
    "import matplotlib.pyplot as plt\n",
    "import seaborn as sns\n",
    "from sklearn.feature_extraction.text import TfidfTransformer\n",
    "from sklearn.feature_extraction.text import TfidfVectorizer\n",
    "from sklearn.feature_extraction.text import CountVectorizer\n",
    "from sklearn.metrics import confusion_matrix,roc_curve,auc,precision_score,f1_score,accuracy_score,recall_score\n",
    "from sklearn import metrics\n",
    "from nltk.corpus import stopwords\n",
    "from nltk.stem import PorterStemmer\n",
    "from nltk.stem.wordnet import WordNetLemmatizer\n",
    "from sklearn.model_selection import GridSearchCV\n",
    "from gensim.models import Word2Vec\n",
    "from gensim.models import KeyedVectors\n",
    "import pickle\n",
    "from sklearn.model_selection import train_test_split\n",
    "from sklearn.preprocessing import StandardScaler\n",
    "from sklearn.manifold import TSNE\n",
    "from sklearn.linear_model import LogisticRegression\n",
    "from sklearn.model_selection import RandomizedSearchCV\n",
    "from scipy.stats import uniform\n",
    "from gensim.models import Word2Vec\n",
    "from gensim.models import KeyedVectors\n",
    "import pickle\n",
    "from sklearn.manifold import TSNE"
   ]
  },
  {
   "cell_type": "code",
   "execution_count": 3,
   "metadata": {},
   "outputs": [],
   "source": [
    "con = sqlite3.connect('final.sqlite')\n",
    "final = pd.read_sql_query(\"\"\" SELECT * FROM Reviews\"\"\", con)"
   ]
  },
  {
   "cell_type": "code",
   "execution_count": 6,
   "metadata": {},
   "outputs": [],
   "source": [
    "# Time based splittin\n",
    "final = final.sort_values(by=['Time'],ascending=False)\n",
    "finalDataPoints = final.head(20000)\n",
    "x = finalDataPoints['CleanedText']\n",
    "y = finalDataPoints['Score']\n",
    "x_tr,x_test,y_tr,y_test = train_test_split(x,y,test_size=0.2,shuffle=False)\n",
    "x_train,x_cv,y_train,y_cv = train_test_split(x_tr,y_tr,test_size = 0.2,shuffle=False)"
   ]
  },
  {
   "cell_type": "code",
   "execution_count": 7,
   "metadata": {},
   "outputs": [],
   "source": [
    "#Bow->unigram\n",
    "bow = CountVectorizer()\n",
    "x_tr_uni = bow.fit_transform(x_train)\n",
    "x_test_uni = bow.transform(x_test)\n",
    "x_tr_uni = StandardScaler(with_mean=False).fit_transform(x_tr_uni)\n",
    "x_test_uni = StandardScaler(with_mean=False).fit_transform(x_test_uni)"
   ]
  },
  {
   "cell_type": "code",
   "execution_count": 26,
   "metadata": {},
   "outputs": [
    {
     "name": "stdout",
     "output_type": "stream",
     "text": [
      "Fitting 5 folds for each of 5 candidates, totalling 25 fits\n"
     ]
    },
    {
     "name": "stderr",
     "output_type": "stream",
     "text": [
      "[Parallel(n_jobs=1)]: Using backend SequentialBackend with 1 concurrent workers.\n",
      "C:\\Users\\User\\Anaconda3\\lib\\site-packages\\sklearn\\linear_model\\_logistic.py:762: ConvergenceWarning: lbfgs failed to converge (status=1):\n",
      "STOP: TOTAL NO. of ITERATIONS REACHED LIMIT.\n",
      "\n",
      "Increase the number of iterations (max_iter) or scale the data as shown in:\n",
      "    https://scikit-learn.org/stable/modules/preprocessing.html\n",
      "Please also refer to the documentation for alternative solver options:\n",
      "    https://scikit-learn.org/stable/modules/linear_model.html#logistic-regression\n",
      "  extra_warning_msg=_LOGISTIC_SOLVER_CONVERGENCE_MSG)\n",
      "C:\\Users\\User\\Anaconda3\\lib\\site-packages\\sklearn\\linear_model\\_logistic.py:762: ConvergenceWarning: lbfgs failed to converge (status=1):\n",
      "STOP: TOTAL NO. of ITERATIONS REACHED LIMIT.\n",
      "\n",
      "Increase the number of iterations (max_iter) or scale the data as shown in:\n",
      "    https://scikit-learn.org/stable/modules/preprocessing.html\n",
      "Please also refer to the documentation for alternative solver options:\n",
      "    https://scikit-learn.org/stable/modules/linear_model.html#logistic-regression\n",
      "  extra_warning_msg=_LOGISTIC_SOLVER_CONVERGENCE_MSG)\n",
      "C:\\Users\\User\\Anaconda3\\lib\\site-packages\\sklearn\\linear_model\\_logistic.py:762: ConvergenceWarning: lbfgs failed to converge (status=1):\n",
      "STOP: TOTAL NO. of ITERATIONS REACHED LIMIT.\n",
      "\n",
      "Increase the number of iterations (max_iter) or scale the data as shown in:\n",
      "    https://scikit-learn.org/stable/modules/preprocessing.html\n",
      "Please also refer to the documentation for alternative solver options:\n",
      "    https://scikit-learn.org/stable/modules/linear_model.html#logistic-regression\n",
      "  extra_warning_msg=_LOGISTIC_SOLVER_CONVERGENCE_MSG)\n",
      "C:\\Users\\User\\Anaconda3\\lib\\site-packages\\sklearn\\linear_model\\_logistic.py:762: ConvergenceWarning: lbfgs failed to converge (status=1):\n",
      "STOP: TOTAL NO. of ITERATIONS REACHED LIMIT.\n",
      "\n",
      "Increase the number of iterations (max_iter) or scale the data as shown in:\n",
      "    https://scikit-learn.org/stable/modules/preprocessing.html\n",
      "Please also refer to the documentation for alternative solver options:\n",
      "    https://scikit-learn.org/stable/modules/linear_model.html#logistic-regression\n",
      "  extra_warning_msg=_LOGISTIC_SOLVER_CONVERGENCE_MSG)\n",
      "C:\\Users\\User\\Anaconda3\\lib\\site-packages\\sklearn\\linear_model\\_logistic.py:762: ConvergenceWarning: lbfgs failed to converge (status=1):\n",
      "STOP: TOTAL NO. of ITERATIONS REACHED LIMIT.\n",
      "\n",
      "Increase the number of iterations (max_iter) or scale the data as shown in:\n",
      "    https://scikit-learn.org/stable/modules/preprocessing.html\n",
      "Please also refer to the documentation for alternative solver options:\n",
      "    https://scikit-learn.org/stable/modules/linear_model.html#logistic-regression\n",
      "  extra_warning_msg=_LOGISTIC_SOLVER_CONVERGENCE_MSG)\n",
      "C:\\Users\\User\\Anaconda3\\lib\\site-packages\\sklearn\\linear_model\\_logistic.py:762: ConvergenceWarning: lbfgs failed to converge (status=1):\n",
      "STOP: TOTAL NO. of ITERATIONS REACHED LIMIT.\n",
      "\n",
      "Increase the number of iterations (max_iter) or scale the data as shown in:\n",
      "    https://scikit-learn.org/stable/modules/preprocessing.html\n",
      "Please also refer to the documentation for alternative solver options:\n",
      "    https://scikit-learn.org/stable/modules/linear_model.html#logistic-regression\n",
      "  extra_warning_msg=_LOGISTIC_SOLVER_CONVERGENCE_MSG)\n",
      "C:\\Users\\User\\Anaconda3\\lib\\site-packages\\sklearn\\linear_model\\_logistic.py:762: ConvergenceWarning: lbfgs failed to converge (status=1):\n",
      "STOP: TOTAL NO. of ITERATIONS REACHED LIMIT.\n",
      "\n",
      "Increase the number of iterations (max_iter) or scale the data as shown in:\n",
      "    https://scikit-learn.org/stable/modules/preprocessing.html\n",
      "Please also refer to the documentation for alternative solver options:\n",
      "    https://scikit-learn.org/stable/modules/linear_model.html#logistic-regression\n",
      "  extra_warning_msg=_LOGISTIC_SOLVER_CONVERGENCE_MSG)\n",
      "C:\\Users\\User\\Anaconda3\\lib\\site-packages\\sklearn\\linear_model\\_logistic.py:762: ConvergenceWarning: lbfgs failed to converge (status=1):\n",
      "STOP: TOTAL NO. of ITERATIONS REACHED LIMIT.\n",
      "\n",
      "Increase the number of iterations (max_iter) or scale the data as shown in:\n",
      "    https://scikit-learn.org/stable/modules/preprocessing.html\n",
      "Please also refer to the documentation for alternative solver options:\n",
      "    https://scikit-learn.org/stable/modules/linear_model.html#logistic-regression\n",
      "  extra_warning_msg=_LOGISTIC_SOLVER_CONVERGENCE_MSG)\n",
      "C:\\Users\\User\\Anaconda3\\lib\\site-packages\\sklearn\\linear_model\\_logistic.py:762: ConvergenceWarning: lbfgs failed to converge (status=1):\n",
      "STOP: TOTAL NO. of ITERATIONS REACHED LIMIT.\n",
      "\n",
      "Increase the number of iterations (max_iter) or scale the data as shown in:\n",
      "    https://scikit-learn.org/stable/modules/preprocessing.html\n",
      "Please also refer to the documentation for alternative solver options:\n",
      "    https://scikit-learn.org/stable/modules/linear_model.html#logistic-regression\n",
      "  extra_warning_msg=_LOGISTIC_SOLVER_CONVERGENCE_MSG)\n",
      "C:\\Users\\User\\Anaconda3\\lib\\site-packages\\sklearn\\linear_model\\_logistic.py:762: ConvergenceWarning: lbfgs failed to converge (status=1):\n",
      "STOP: TOTAL NO. of ITERATIONS REACHED LIMIT.\n",
      "\n",
      "Increase the number of iterations (max_iter) or scale the data as shown in:\n",
      "    https://scikit-learn.org/stable/modules/preprocessing.html\n",
      "Please also refer to the documentation for alternative solver options:\n",
      "    https://scikit-learn.org/stable/modules/linear_model.html#logistic-regression\n",
      "  extra_warning_msg=_LOGISTIC_SOLVER_CONVERGENCE_MSG)\n",
      "[Parallel(n_jobs=1)]: Done  25 out of  25 | elapsed:   13.6s finished\n"
     ]
    },
    {
     "name": "stdout",
     "output_type": "stream",
     "text": [
      "Best Hyperparameter:  {'C': 0.01}\n",
      "0.8752191545241221\n"
     ]
    },
    {
     "data": {
      "image/png": "[encoded data removed]",
      "text/plain": [
       "<Figure size 432x288 with 1 Axes>"
      ]
     },
     "metadata": {
      "needs_background": "light"
     },
     "output_type": "display_data"
    }
   ],
   "source": [
    "# Finding the optimal C using GridSearchCV\n",
    "LR = LogisticRegression(penalty='l2')\n",
    "C_value = [{'C':[10**-4,10**-2,10**0,10**2,10**4]}]\n",
    "gsv = GridSearchCV(LR,C_value,cv=5,verbose=1,scoring='f1_weighted')\n",
    "gsv.fit(x_tr_uni,y_train)\n",
    "print(\"Best Hyperparameter: \",gsv.best_params_)\n",
    "print(gsv.best_score_)\n",
    "optimal_C = gsv.best_score_\n",
    "x=[]\n",
    "y=[]\n",
    "for i in range(0,len(C_value[0]['C'])): \n",
    "    x.append(gsv.cv_results_['params'][i]['C'])\n",
    "    y.append(gsv.cv_results_[\"mean_test_score\"][i])\n",
    "plt.xlabel(\"C\",fontsize=15)\n",
    "plt.ylabel('f1_weighted')\n",
    "plt.title(\"f1_weighted v/s C\")\n",
    "plt.plot(x,y,marker='o',markerfacecolor='red',markersize=10)\n",
    "plt.show()"
   ]
  },
  {
   "cell_type": "code",
   "execution_count": 27,
   "metadata": {},
   "outputs": [
    {
     "name": "stderr",
     "output_type": "stream",
     "text": [
      "C:\\Users\\User\\Anaconda3\\lib\\site-packages\\sklearn\\linear_model\\_logistic.py:762: ConvergenceWarning: lbfgs failed to converge (status=1):\n",
      "STOP: TOTAL NO. of ITERATIONS REACHED LIMIT.\n",
      "\n",
      "Increase the number of iterations (max_iter) or scale the data as shown in:\n",
      "    https://scikit-learn.org/stable/modules/preprocessing.html\n",
      "Please also refer to the documentation for alternative solver options:\n",
      "    https://scikit-learn.org/stable/modules/linear_model.html#logistic-regression\n",
      "  extra_warning_msg=_LOGISTIC_SOLVER_CONVERGENCE_MSG)\n"
     ]
    },
    {
     "name": "stdout",
     "output_type": "stream",
     "text": [
      "Accuracy on test set: 86.025%\n",
      "Precision on test set: 0.761\n",
      "Recall on test set: 0.732\n",
      "F1-Score on test set: 0.745\n"
     ]
    },
    {
     "data": {
      "text/plain": [
       "<matplotlib.axes._subplots.AxesSubplot at 0x1546b091848>"
      ]
     },
     "execution_count": 27,
     "metadata": {},
     "output_type": "execute_result"
    },
    {
     "data": {
      "image/png": "[encoded data removed]",
      "text/plain": [
       "<Figure size 432x288 with 2 Axes>"
      ]
     },
     "metadata": {},
     "output_type": "display_data"
    }
   ],
   "source": [
    "LR= LogisticRegression(penalty='l2',C=optimal_C)\n",
    "LR.fit(x_tr_uni,y_train)\n",
    "y_pred =LR.predict(x_test_uni)\n",
    "print(\"Accuracy on test set: %0.3f%%\"%(accuracy_score(y_test, y_pred)*100))\n",
    "print(\"Precision on test set: %0.3f\"%(precision_score(y_test, y_pred,average='macro')))\n",
    "print(\"Recall on test set: %0.3f\"%(recall_score(y_test, y_pred,average='macro')))\n",
    "print(\"F1-Score on test set: %0.3f\"%(f1_score(y_test, y_pred,average='macro')))\n",
    "df_cm = pd.DataFrame(confusion_matrix(y_test, y_pred), range(2),range(2))\n",
    "sns.set(font_scale=1.4)#for label size\n",
    "sns.heatmap(df_cm, annot=True,annot_kws={\"size\": 16}, fmt='g')"
   ]
  },
  {
   "cell_type": "code",
   "execution_count": 39,
   "metadata": {},
   "outputs": [
    {
     "name": "stdout",
     "output_type": "stream",
     "text": [
      "Fitting 5 folds for each of 5 candidates, totalling 25 fits\n"
     ]
    },
    {
     "name": "stderr",
     "output_type": "stream",
     "text": [
      "[Parallel(n_jobs=1)]: Using backend SequentialBackend with 1 concurrent workers.\n",
      "[Parallel(n_jobs=1)]: Done  25 out of  25 | elapsed:   13.9s finished\n"
     ]
    },
    {
     "name": "stdout",
     "output_type": "stream",
     "text": [
      "Best Hyperparameter:  {'C': 0.01}\n",
      "0.8752191545241221\n"
     ]
    }
   ],
   "source": [
    "#finding the optimal C using randomSearchCV\n",
    "LR = LogisticRegression(penalty = 'l2')\n",
    "C_value = [{'C':[10**-4,10**-2,10**0,10**2,10**4]}]\n",
    "gsv = RandomizedSearchCV(LR,C_value,cv=5,verbose=1,scoring='f1_weighted')\n",
    "gsv.fit(x_tr_uni,y_train)\n",
    "print(\"Best Hyperparameter: \",gsv.best_params_)\n",
    "print(gsv.best_score_)\n",
    "optimal_C = gsv.best_score_"
   ]
  },
  {
   "cell_type": "code",
   "execution_count": 40,
   "metadata": {},
   "outputs": [
    {
     "data": {
      "image/png": "[encoded data removed]",
      "text/plain": [
       "<Figure size 432x288 with 1 Axes>"
      ]
     },
     "metadata": {},
     "output_type": "display_data"
    }
   ],
   "source": [
    "x=[]\n",
    "y=[]\n",
    "for i in range(0,len(C_value[0]['C'])): \n",
    "    x.append(gsv.cv_results_['params'][i]['C'])\n",
    "    y.append(gsv.cv_results_[\"mean_test_score\"][i])\n",
    "plt.xlabel(\"C\",fontsize=15)\n",
    "plt.ylabel('f1_weighted')\n",
    "plt.title(\"f1_weighted v/s C\")\n",
    "plt.plot(x,y,marker='o',markerfacecolor='red',markersize=10)\n",
    "plt.show()"
   ]
  },
  {
   "cell_type": "code",
   "execution_count": 42,
   "metadata": {},
   "outputs": [
    {
     "name": "stdout",
     "output_type": "stream",
     "text": [
      "Accuracy on test set: 86.025%\n",
      "Precision on test set: 0.761\n",
      "Recall on test set: 0.732\n",
      "F1-Score on test set: 0.745\n"
     ]
    },
    {
     "data": {
      "text/plain": [
       "<matplotlib.axes._subplots.AxesSubplot at 0x15472876588>"
      ]
     },
     "execution_count": 42,
     "metadata": {},
     "output_type": "execute_result"
    },
    {
     "data": {
      "image/png": "[encoded data removed]",
      "text/plain": [
       "<Figure size 432x288 with 2 Axes>"
      ]
     },
     "metadata": {},
     "output_type": "display_data"
    }
   ],
   "source": [
    "LR= LogisticRegression(penalty='l2',C=optimal_C)\n",
    "LR.fit(x_tr_uni,y_train)\n",
    "y_pred =LR.predict(x_test_uni)\n",
    "print(\"Accuracy on test set: %0.3f%%\"%(accuracy_score(y_test, y_pred)*100))\n",
    "print(\"Precision on test set: %0.3f\"%(precision_score(y_test, y_pred,average='macro')))\n",
    "print(\"Recall on test set: %0.3f\"%(recall_score(y_test, y_pred,average='macro')))\n",
    "print(\"F1-Score on test set: %0.3f\"%(f1_score(y_test, y_pred,average='macro')))\n",
    "df_cm = pd.DataFrame(confusion_matrix(y_test, y_pred), range(2),range(2))\n",
    "sns.set(font_scale=1.4)#for label size\n",
    "sns.heatmap(df_cm, annot=True,annot_kws={\"size\": 16}, fmt='g')"
   ]
  },
  {
   "cell_type": "code",
   "execution_count": 43,
   "metadata": {},
   "outputs": [],
   "source": [
    "#TOP FEATURES\n",
    "## Adding small noise in train data\n",
    "epsilon = np.random.normal(loc=0.0,scale=0.00000001,size=x_tr_uni.shape)\n",
    "x_tr_uni_epsilon = x_tr_uni+epsilon"
   ]
  },
  {
   "cell_type": "code",
   "execution_count": 44,
   "metadata": {},
   "outputs": [],
   "source": [
    "#find with weight vector using train without noise\n",
    "LR = LogisticRegression(penalty='l2',C=0.01)\n",
    "LR.fit(x_tr_uni,y_train)\n",
    "w_1 = LR.coef_"
   ]
  },
  {
   "cell_type": "code",
   "execution_count": 49,
   "metadata": {},
   "outputs": [],
   "source": [
    "#Find with weight vector using train with noise\n",
    "LR = LogisticRegression(penalty='l2',C=0.01)\n",
    "LR.fit(x_tr_uni_epsilon,y_train)\n",
    "w_2 = LR.coef_"
   ]
  },
  {
   "cell_type": "code",
   "execution_count": 50,
   "metadata": {},
   "outputs": [],
   "source": [
    "w = (w_2-w_1)\n",
    "w = w/w_1"
   ]
  },
  {
   "cell_type": "code",
   "execution_count": 51,
   "metadata": {},
   "outputs": [],
   "source": [
    "w = np.nan_to_num(w)"
   ]
  },
  {
   "cell_type": "code",
   "execution_count": 52,
   "metadata": {},
   "outputs": [],
   "source": [
    "w=w*100\n",
    "w = w[np.where(w < 30)]"
   ]
  },
  {
   "cell_type": "code",
   "execution_count": 53,
   "metadata": {},
   "outputs": [],
   "source": [
    "#dividing W list into p_pos(+ve feature) and n_neg(-ve feature)\n",
    "w_pos_uni = w[np.where(w > 0)]\n",
    "w_neg_uni = w[np.where(w < 0)]\n"
   ]
  },
  {
   "cell_type": "code",
   "execution_count": 54,
   "metadata": {},
   "outputs": [
    {
     "name": "stdout",
     "output_type": "stream",
     "text": [
      "['burner' 'frederickand' 'giftcard' 'drunken' 'hor' 'meatfish' 'gruyer'\n",
      " 'colleagu' 'capelin' 'gourmet']\n"
     ]
    }
   ],
   "source": [
    "features = (-w_neg_uni).argsort()\n",
    "print(np.take(bow.get_feature_names(),features[:10]))"
   ]
  },
  {
   "cell_type": "code",
   "execution_count": 55,
   "metadata": {},
   "outputs": [
    {
     "name": "stdout",
     "output_type": "stream",
     "text": [
      "['flimsi' 'entireti' 'aspic' 'crip' 'brine' 'beg' 'againwil'\n",
      " 'huskyshepherd' 'catfish' 'carman']\n"
     ]
    }
   ],
   "source": [
    "features = (-w_pos_uni).argsort()\n",
    "print(np.take(bow.get_feature_names(),features[:10]))"
   ]
  },
  {
   "cell_type": "markdown",
   "metadata": {},
   "source": [
    "# L1-Regulerization using TFIDF-W2V"
   ]
  },
  {
   "cell_type": "code",
   "execution_count": 56,
   "metadata": {},
   "outputs": [],
   "source": [
    "i = 0\n",
    "list_of_sent = []\n",
    "for sent in x_train:\n",
    "    list_of_sent.append(sent.split())\n",
    "\n",
    "i = 0\n",
    "list_of_sent_test = []\n",
    "for sent in x_test:\n",
    "    list_of_sent_test.append(sent.split())    "
   ]
  },
  {
   "cell_type": "code",
   "execution_count": 58,
   "metadata": {},
   "outputs": [],
   "source": [
    "w2v_model = Word2Vec(list_of_sent,min_count=5,size=50)"
   ]
  },
  {
   "cell_type": "code",
   "execution_count": 59,
   "metadata": {},
   "outputs": [
    {
     "name": "stdout",
     "output_type": "stream",
     "text": [
      "number of words that occured minimum 5 times 4594\n",
      "sample words ['big', 'lover', 'fig', 'jam', 'uniqu', 'flavor', 'kind', 'mix', 'light', 'dark', 'mission', 'must', 'tri', 'hard', 'ever', 'write', 'review', 'rice', 'good', 'live', 'hawaii', 'never', 'seen', 'caribbean', 'sale', 'store', 'came', 'across', 'search', 'amazon', 'glad', 'gave', 'think', 'disappoint', 'ad', 'chop', 'chicken', 'suggest', 'also', 'small', 'onion', 'anoth', 'great', 'way', 'make', 'even', 'better', 'fresh', 'mango', 'simmer']\n"
     ]
    }
   ],
   "source": [
    "w2v_words = list(w2v_model.wv.vocab)\n",
    "print('number of words that occured minimum 5 times',len(w2v_words))\n",
    "print('sample words',w2v_words[0:50])"
   ]
  },
  {
   "cell_type": "code",
   "execution_count": 61,
   "metadata": {},
   "outputs": [],
   "source": [
    "#TF-IDF\n",
    "tf_idf_vect = TfidfVectorizer()\n",
    "final_tf_idf = tf_idf_vect.fit_transform(x_train)\n",
    "dictionary = dict(zip(tf_idf_vect.get_feature_names(),list(tf_idf_vect.idf_)))"
   ]
  },
  {
   "cell_type": "code",
   "execution_count": 63,
   "metadata": {},
   "outputs": [
    {
     "name": "stderr",
     "output_type": "stream",
     "text": [
      "100%|███████████████████████████████████████████████████████████████████████████| 12800/12800 [00:23<00:00, 541.19it/s]\n"
     ]
    }
   ],
   "source": [
    "#TF-idf weighted Word2Vec\n",
    "from tqdm import tqdm\n",
    "tfidf_feat = tf_idf_vect.get_feature_names()\n",
    "tfidf_sent_vectors = []\n",
    "row = 0\n",
    "for sent in tqdm(list_of_sent):\n",
    "    sent_vec = np.zeros(50)\n",
    "    weight_sum = 0\n",
    "    \n",
    "    for word in sent:\n",
    "        if word in w2v_words:\n",
    "            vec = w2v_model.wv[word]\n",
    "            tf_idf = dictionary[word]*sent.count(word)\n",
    "            sent_vec += (vec * tf_idf)\n",
    "            weight_sum += tf_idf\n",
    "    if weight_sum != 0:\n",
    "        sent_vec /=weight_sum\n",
    "    tfidf_sent_vectors.append(sent_vec)\n",
    "    row+=1"
   ]
  },
  {
   "cell_type": "code",
   "execution_count": 64,
   "metadata": {},
   "outputs": [
    {
     "name": "stderr",
     "output_type": "stream",
     "text": [
      "100%|█████████████████████████████████████████████████████████████████████████████| 4000/4000 [00:07<00:00, 547.78it/s]\n"
     ]
    }
   ],
   "source": [
    "#TF-idf weighted Word2Vec\n",
    "from tqdm import tqdm\n",
    "tfidf_feat = tf_idf_vect.get_feature_names()\n",
    "tfidf_sent_vectors_test = []\n",
    "row = 0\n",
    "for sent in tqdm(list_of_sent_test):\n",
    "    sent_vec = np.zeros(50)\n",
    "    weight_sum = 0\n",
    "    \n",
    "    for word in sent:\n",
    "        if word in w2v_words:\n",
    "            vec = w2v_model.wv[word]\n",
    "            tf_idf = dictionary[word]*sent.count(word)\n",
    "            sent_vec += (vec * tf_idf)\n",
    "            weight_sum += tf_idf\n",
    "    if weight_sum != 0:\n",
    "        sent_vec /=weight_sum\n",
    "    tfidf_sent_vectors_test.append(sent_vec)\n",
    "    row+=1"
   ]
  },
  {
   "cell_type": "code",
   "execution_count": 65,
   "metadata": {},
   "outputs": [],
   "source": [
    "x_test_tdfw2v = tfidf_sent_vectors_test\n",
    "x_tr_tdfw2v = tfidf_sent_vectors\n",
    "\n",
    "x_test_tdfw2v = StandardScaler(with_mean=False).fit_transform(x_test_tdfw2v)\n",
    "x_tr_tdfw2v = StandardScaler(with_mean=False).fit_transform(x_tr_tdfw2v)\n"
   ]
  },
  {
   "cell_type": "code",
   "execution_count": 68,
   "metadata": {},
   "outputs": [
    {
     "name": "stdout",
     "output_type": "stream",
     "text": [
      "Fitting 5 folds for each of 5 candidates, totalling 25 fits\n"
     ]
    },
    {
     "name": "stderr",
     "output_type": "stream",
     "text": [
      "[Parallel(n_jobs=1)]: Using backend SequentialBackend with 1 concurrent workers.\n",
      "[Parallel(n_jobs=1)]: Done  25 out of  25 | elapsed:    8.6s finished\n"
     ]
    },
    {
     "name": "stdout",
     "output_type": "stream",
     "text": [
      "Best Hyperparameter:  {'C': 100}\n",
      "0.8373826064919555\n"
     ]
    }
   ],
   "source": [
    "LR = LogisticRegression(penalty = 'l2')\n",
    "C_value = [{'C':[10**-4,10**-2,10**0,10**2,10**4]}]\n",
    "gsv = RandomizedSearchCV(LR,C_value,cv=5,verbose=1,scoring='f1_weighted')\n",
    "gsv.fit(x_tr_tdfw2v,y_train)\n",
    "print(\"Best Hyperparameter: \",gsv.best_params_)\n",
    "print(gsv.best_score_)\n",
    "optimal_C = gsv.best_score_"
   ]
  },
  {
   "cell_type": "code",
   "execution_count": 69,
   "metadata": {},
   "outputs": [
    {
     "data": {
      "image/png": "[encoded data removed]",
      "text/plain": [
       "<Figure size 432x288 with 1 Axes>"
      ]
     },
     "metadata": {},
     "output_type": "display_data"
    }
   ],
   "source": [
    "x=[]\n",
    "y=[]\n",
    "for i in range(0,len(C_value[0]['C'])): \n",
    "    x.append(gsv.cv_results_['params'][i]['C'])\n",
    "    y.append(gsv.cv_results_[\"mean_test_score\"][i])\n",
    "plt.xlabel(\"C\",fontsize=15)\n",
    "plt.ylabel('f1_weighted')\n",
    "plt.title(\"f1_weighted v/s C\")\n",
    "plt.plot(x,y,marker='o',markerfacecolor='red',markersize=10)\n",
    "plt.show()"
   ]
  },
  {
   "cell_type": "code",
   "execution_count": 71,
   "metadata": {},
   "outputs": [
    {
     "name": "stdout",
     "output_type": "stream",
     "text": [
      "Accuracy on test set: 84.575%\n",
      "Precision on test set: 0.754\n",
      "Recall on test set: 0.618\n",
      "F1-Score on test set: 0.645\n"
     ]
    },
    {
     "data": {
      "text/plain": [
       "<matplotlib.axes._subplots.AxesSubplot at 0x1540e1798c8>"
      ]
     },
     "execution_count": 71,
     "metadata": {},
     "output_type": "execute_result"
    },
    {
     "data": {
      "image/png": "[encoded data removed]",
      "text/plain": [
       "<Figure size 432x288 with 2 Axes>"
      ]
     },
     "metadata": {},
     "output_type": "display_data"
    }
   ],
   "source": [
    "LR= LogisticRegression(penalty='l2',C=optimal_C)\n",
    "LR.fit(x_tr_tdfw2v,y_train)\n",
    "y_pred =LR.predict(x_test_tdfw2v)\n",
    "print(\"Accuracy on test set: %0.3f%%\"%(accuracy_score(y_test, y_pred)*100))\n",
    "print(\"Precision on test set: %0.3f\"%(precision_score(y_test, y_pred,average='macro')))\n",
    "print(\"Recall on test set: %0.3f\"%(recall_score(y_test, y_pred,average='macro')))\n",
    "print(\"F1-Score on test set: %0.3f\"%(f1_score(y_test, y_pred,average='macro')))\n",
    "df_cm = pd.DataFrame(confusion_matrix(y_test, y_pred), range(2),range(2))\n",
    "sns.set(font_scale=1.4)#for label size\n",
    "sns.heatmap(df_cm, annot=True,annot_kws={\"size\": 16}, fmt='g')"
   ]
  },
  {
   "cell_type": "code",
   "execution_count": null,
   "metadata": {},
   "outputs": [],
   "source": []
  },
  {
   "cell_type": "code",
   "execution_count": null,
   "metadata": {},
   "outputs": [],
   "source": []
  }
 ],
 "metadata": {
  "kernelspec": {
   "display_name": "Python 3",
   "language": "python",
   "name": "python3"
  },
  "language_info": {
   "codemirror_mode": {
    "name": "ipython",
    "version": 3
   },
   "file_extension": ".py",
   "mimetype": "text/x-python",
   "name": "python",
   "nbconvert_exporter": "python",
   "pygments_lexer": "ipython3",
   "version": "3.7.4"
  }
 },
 "nbformat": 4,
 "nbformat_minor": 2
}
